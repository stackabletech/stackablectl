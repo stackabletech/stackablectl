{
 "cells": [
  {
   "cell_type": "code",
   "execution_count": 1,
   "metadata": {},
   "outputs": [],
   "source": [
    "# TODO : add code here"
   ]
  },
  {
   "cell_type": "code",
   "execution_count": 2,
   "metadata": {},
   "outputs": [],
   "source": []
  },
  {
   "cell_type": "code",
   "execution_count": 6,
   "metadata": {},
   "outputs": [],
   "source": [
    "from pyspark.sql import SparkSession\n",
    "from pyspark.sql.functions import dayofweek, to_date, to_timestamp, date_format, year, hour, minute, month, when, dayofmonth, dayofweek\n",
    "from pyspark.sql.functions import concat_ws, substring, concat, lpad, lit\n",
    "from pyspark.sql.functions import round, sum, count, avg\n",
    "from pyspark.sql.functions import lag\n",
    "from pyspark.sql.window import Window\n",
    "from pyspark.sql import functions, types\n",
    "from sklearn.ensemble import IsolationForest\n",
    "from sklearn.preprocessing import StandardScaler\n",
    "from pyspark.sql import SparkSession"
   ]
  },
  {
   "cell_type": "code",
   "execution_count": null,
   "metadata": {},
   "outputs": [],
   "source": [
    "spark = SparkSession.builder.getOrCreate()"
   ]
  },
  {
   "cell_type": "code",
   "execution_count": 3,
   "metadata": {},
   "outputs": [],
   "source": [
    "input_df = spark.read.parquet(\"hdfs://hdfs/ny-taxi-data/raw\")"
   ]
  },
  {
   "cell_type": "code",
   "execution_count": 4,
   "metadata": {},
   "outputs": [
    {
     "data": {
      "text/plain": [
       "12106669"
      ]
     },
     "execution_count": 4,
     "metadata": {},
     "output_type": "execute_result"
    }
   ],
   "source": [
    "input_df.count()"
   ]
  },
  {
   "cell_type": "code",
   "execution_count": 7,
   "metadata": {},
   "outputs": [],
   "source": [
    "df = input_df.select(\n",
    "        to_date(input_df.pickup_datetime).alias(\"day_date\")\n",
    "        , year(input_df.pickup_datetime).alias('year')\n",
    "        , month(input_df.pickup_datetime).alias('month')\n",
    "        , dayofmonth(input_df.pickup_datetime).alias(\"dayofmonth\")\n",
    "        , dayofweek(input_df.pickup_datetime).alias(\"dayofweek\")\n",
    "        , hour(input_df.pickup_datetime).alias(\"hour\")\n",
    "        , minute(input_df.pickup_datetime).alias(\"minute\")\n",
    "        , input_df.driver_pay\n",
    "    )\n",
    "    \n",
    "df = df.withColumn(\"minute_group\", when(df.minute < 30, '00').otherwise('30'))\n",
    "df = df.withColumn(\"time_group\",concat_ws(\":\", lpad(df.hour, 2, '0'), df.minute_group, lit('00')))\n",
    "df = df.withColumn(\"ts\",concat_ws(\" \", df.day_date, df.time_group))\n",
    "    \n",
    "dfs = df.select(\n",
    "        to_timestamp(df.ts, \"yyyy-MM-dd HH:mm:ss\").alias(\"date_group\")\n",
    "        , df.minute_group\n",
    "        , df.year\n",
    "        , df.hour\n",
    "        , df.month\n",
    "        , df.dayofmonth\n",
    "        , df.dayofweek\n",
    "        , df.driver_pay\n",
    ").groupby(\"date_group\", \"minute_group\", \"hour\", \"year\", \"month\", \"dayofmonth\", \"dayofweek\").agg(functions.count('driver_pay').alias('no_rides'), functions.round(functions.sum('driver_pay'), 2).alias('total_bill'), functions.round(functions.avg('driver_pay'), 2).alias('avg_bill')).orderBy(\"date_group\")"
   ]
  },
  {
   "cell_type": "code",
   "execution_count": 8,
   "metadata": {},
   "outputs": [
    {
     "name": "stdout",
     "output_type": "stream",
     "text": [
      "+-------------------+------------+----+----+-----+----------+---------+--------+----------+--------+\n",
      "|         date_group|minute_group|hour|year|month|dayofmonth|dayofweek|no_rides|total_bill|avg_bill|\n",
      "+-------------------+------------+----+----+-----+----------+---------+--------+----------+--------+\n",
      "|2020-09-01 00:00:00|          00|   0|2020|    9|         1|        3|    4794|  63682.32|   13.28|\n",
      "|2020-09-01 00:30:00|          30|   0|2020|    9|         1|        3|    3600|  47761.62|   13.27|\n",
      "|2020-09-01 01:00:00|          00|   1|2020|    9|         1|        3|    3036|  40665.95|   13.39|\n",
      "|2020-09-01 01:30:00|          30|   1|2020|    9|         1|        3|    2511|  32701.71|   13.02|\n",
      "|2020-09-01 02:00:00|          00|   2|2020|    9|         1|        3|    1860|  24725.59|   13.29|\n",
      "|2020-09-01 02:30:00|          30|   2|2020|    9|         1|        3|    1567|  21246.81|   13.56|\n",
      "|2020-09-01 03:00:00|          00|   3|2020|    9|         1|        3|    1380|  19993.27|   14.49|\n",
      "|2020-09-01 03:30:00|          30|   3|2020|    9|         1|        3|    1277|  19030.85|    14.9|\n",
      "|2020-09-01 04:00:00|          00|   4|2020|    9|         1|        3|    1255|  19460.16|   15.51|\n",
      "|2020-09-01 04:30:00|          30|   4|2020|    9|         1|        3|    1588|   23524.0|   14.81|\n",
      "|2020-09-01 05:00:00|          00|   5|2020|    9|         1|        3|    2124|  34691.32|   16.33|\n",
      "|2020-09-01 05:30:00|          30|   5|2020|    9|         1|        3|    3235|  48662.56|   15.04|\n",
      "|2020-09-01 06:00:00|          00|   6|2020|    9|         1|        3|    4473|  74724.07|   16.71|\n",
      "|2020-09-01 06:30:00|          30|   6|2020|    9|         1|        3|    6026|  93852.48|   15.57|\n",
      "|2020-09-01 07:00:00|          00|   7|2020|    9|         1|        3|    6767| 109814.89|   16.23|\n",
      "|2020-09-01 07:30:00|          30|   7|2020|    9|         1|        3|    8439| 128452.16|   15.22|\n",
      "|2020-09-01 08:00:00|          00|   8|2020|    9|         1|        3|    9071| 147035.35|   16.21|\n",
      "|2020-09-01 08:30:00|          30|   8|2020|    9|         1|        3|   10131| 149852.71|   14.79|\n",
      "|2020-09-01 09:00:00|          00|   9|2020|    9|         1|        3|    8684| 132712.81|   15.28|\n",
      "|2020-09-01 09:30:00|          30|   9|2020|    9|         1|        3|    8778| 125015.57|   14.24|\n",
      "+-------------------+------------+----+----+-----+----------+---------+--------+----------+--------+\n",
      "only showing top 20 rows\n",
      "\n"
     ]
    }
   ],
   "source": [
    "dfs.show()"
   ]
  },
  {
   "cell_type": "code",
   "execution_count": 9,
   "metadata": {},
   "outputs": [],
   "source": [
    "\n",
    "windowSpec  = Window.partitionBy(\"hour\").orderBy(\"date_group\")\n",
    "    \n",
    "dfs = dfs.withColumn(\"lag\",lag(\"no_rides\",2).over(windowSpec))\n",
    "dfs = dfs.filter(\"lag IS NOT NULL\")\n",
    "    \n",
    "scaler = StandardScaler()\n",
    "classifier = IsolationForest(contamination=0.005, n_estimators=200, max_samples=0.7, random_state=42, n_jobs=-1)\n",
    "    \n",
    "df_model = dfs.select(dfs.minute_group, dfs.hour, dfs.year, dfs.month, dfs.dayofmonth, dfs.dayofweek, dfs.no_rides, dfs.total_bill, dfs.avg_bill, dfs.lag)\n",
    "    \n",
    "x_train = scaler.fit_transform(df_model.collect())\n",
    "clf = classifier.fit(x_train)\n",
    "    \n",
    "SCL = spark.sparkContext.broadcast(scaler)\n",
    "CLF = spark.sparkContext.broadcast(clf)\n",
    "    \n",
    "def predict_using_broadcasts(minute_group, hour, year, month, dayofmonth, dayofweek, no_rides, total_bill, avg_bill, lag):\n",
    "    prediction = 0\n",
    "    x_test = [[minute_group, hour, year, month, dayofmonth, dayofweek, no_rides, total_bill, avg_bill, lag]]\n",
    "    try:\n",
    "        x_test = SCL.value.transform(x_test)\n",
    "        prediction = CLF.value.predict(x_test)[0]\n",
    "    except ValueError:\n",
    "        import traceback\n",
    "        traceback.print_exc()\n",
    "        print('Cannot predict:', x_test)\n",
    "    return int(prediction)\n",
    "    \n",
    "udf_predict_using_broadcasts = functions.udf(predict_using_broadcasts, types.IntegerType())\n",
    "\n",
    "df_pred = dfs.withColumn(\n",
    "    'prediction',\n",
    "    udf_predict_using_broadcasts('minute_group', 'hour', 'year', 'month', 'dayofmonth', 'dayofweek', 'no_rides', 'total_bill', 'avg_bill', 'lag')\n",
    ")\n",
    "\n",
    "# map to table columns\n",
    "df_out = df_pred.select(\n",
    "    df_pred.date_group.alias(\"pickup_ts\")\n",
    "    , df_pred.minute_group.alias(\"pickup_minute_group\")\n",
    "    , df_pred.hour.alias(\"pickup_hour\")\n",
    "    , df_pred.year.alias(\"pickup_year\")\n",
    "    , df_pred.month.alias(\"pickup_month\")\n",
    "    , df_pred.dayofmonth.alias(\"pickup_dayofmonth\")\n",
    "    , df_pred.dayofweek.alias(\"pickup_dayofweek\")\n",
    "    , df_pred.no_rides.alias(\"norides\")\n",
    "    , df_pred.total_bill.alias(\"total_bill\")\n",
    "    , df_pred.avg_bill.alias(\"avg_bill\")\n",
    "    , df_pred.lag.alias(\"norides_lag\")\n",
    "    , df_pred.prediction.alias(\"pred\")\n",
    ")"
   ]
  },
  {
   "cell_type": "code",
   "execution_count": 10,
   "metadata": {},
   "outputs": [
    {
     "name": "stdout",
     "output_type": "stream",
     "text": [
      "+-------------------+-------------------+-----------+-----------+------------+-----------------+----------------+-------+----------+--------+-----------+----+\n",
      "|          pickup_ts|pickup_minute_group|pickup_hour|pickup_year|pickup_month|pickup_dayofmonth|pickup_dayofweek|norides|total_bill|avg_bill|norides_lag|pred|\n",
      "+-------------------+-------------------+-----------+-----------+------------+-----------------+----------------+-------+----------+--------+-----------+----+\n",
      "|2020-09-02 00:00:00|                 00|          0|       2020|           9|                2|               4|   5196|  69838.45|   13.44|       4794|   1|\n",
      "|2020-09-02 00:30:00|                 30|          0|       2020|           9|                2|               4|   3818|  51395.77|   13.46|       3600|   1|\n",
      "|2020-09-03 00:00:00|                 00|          0|       2020|           9|                3|               5|   6113|  79580.45|   13.02|       5196|   1|\n",
      "|2020-09-03 00:30:00|                 30|          0|       2020|           9|                3|               5|   4160|  54663.35|   13.14|       3818|   1|\n",
      "|2020-09-04 00:00:00|                 00|          0|       2020|           9|                4|               6|   5819|  79232.59|   13.62|       6113|   1|\n",
      "|2020-09-04 00:30:00|                 30|          0|       2020|           9|                4|               6|   4520|  59816.52|   13.23|       4160|   1|\n",
      "|2020-09-05 00:00:00|                 00|          0|       2020|           9|                5|               7|  10286| 144621.07|   14.06|       5819|   1|\n",
      "|2020-09-05 00:30:00|                 30|          0|       2020|           9|                5|               7|   8793| 119000.74|   13.53|       4520|   1|\n",
      "|2020-09-06 00:00:00|                 00|          0|       2020|           9|                6|               1|  11440| 166115.35|   14.52|      10286|   1|\n",
      "|2020-09-06 00:30:00|                 30|          0|       2020|           9|                6|               1|   9928| 140484.86|   14.15|       8793|   1|\n",
      "|2020-09-07 00:00:00|                 00|          0|       2020|           9|                7|               2|   8881| 127587.35|   14.37|      11440|   1|\n",
      "|2020-09-07 00:30:00|                 30|          0|       2020|           9|                7|               2|   7426| 102592.02|   13.82|       9928|   1|\n",
      "|2020-09-08 00:00:00|                 00|          0|       2020|           9|                8|               3|   5953|  83639.22|   14.05|       8881|   1|\n",
      "|2020-09-08 00:30:00|                 30|          0|       2020|           9|                8|               3|   4563|  63564.25|   13.93|       7426|   1|\n",
      "|2020-09-09 00:00:00|                 00|          0|       2020|           9|                9|               4|   4521|  60438.84|   13.37|       5953|   1|\n",
      "|2020-09-09 00:30:00|                 30|          0|       2020|           9|                9|               4|   3605|  49626.84|   13.77|       4563|   1|\n",
      "|2020-09-10 00:00:00|                 00|          0|       2020|           9|               10|               5|   5446|  73059.86|   13.42|       4521|   1|\n",
      "|2020-09-10 00:30:00|                 30|          0|       2020|           9|               10|               5|   4215|  55828.52|   13.25|       3605|   1|\n",
      "|2020-09-11 00:00:00|                 00|          0|       2020|           9|               11|               6|   5409|   72351.0|   13.38|       5446|   1|\n",
      "|2020-09-11 00:30:00|                 30|          0|       2020|           9|               11|               6|   4179|  54095.75|   12.94|       4215|   1|\n",
      "+-------------------+-------------------+-----------+-----------+------------+-----------------+----------------+-------+----------+--------+-----------+----+\n",
      "only showing top 20 rows\n",
      "\n"
     ]
    }
   ],
   "source": [
    "df_out.show()"
   ]
  },
  {
   "cell_type": "code",
   "execution_count": 14,
   "metadata": {},
   "outputs": [
    {
     "data": {
      "text/plain": [
       "DataFrame[pickup_ts: timestamp, pickup_minute_group: string, pickup_hour: int, pickup_year: int, pickup_month: int, pickup_dayofmonth: int, pickup_dayofweek: int, norides: bigint, total_bill: double, avg_bill: double, norides_lag: bigint, pred: int]"
      ]
     },
     "execution_count": 14,
     "metadata": {},
     "output_type": "execute_result"
    }
   ],
   "source": [
    "df_out.persist()"
   ]
  },
  {
   "cell_type": "code",
   "execution_count": 18,
   "metadata": {},
   "outputs": [],
   "source": [
    "import pandas as pd"
   ]
  },
  {
   "cell_type": "code",
   "execution_count": null,
   "metadata": {},
   "outputs": [],
   "source": [
    "total_bill = df_out.select(\"total_bill\").toPandas()"
   ]
  },
  {
   "cell_type": "code",
   "execution_count": null,
   "metadata": {},
   "outputs": [],
   "source": []
  }
 ],
 "metadata": {
  "kernelspec": {
   "display_name": "Python 3 (ipykernel)",
   "language": "python",
   "name": "python3"
  },
  "language_info": {
   "codemirror_mode": {
    "name": "ipython",
    "version": 3
   },
   "file_extension": ".py",
   "mimetype": "text/x-python",
   "name": "python",
   "nbconvert_exporter": "python",
   "pygments_lexer": "ipython3",
   "version": "3.10.6"
  }
 },
 "nbformat": 4,
 "nbformat_minor": 4
}
